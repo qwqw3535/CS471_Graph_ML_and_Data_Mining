{
  "nbformat": 4,
  "nbformat_minor": 0,
  "metadata": {
    "colab": {
      "provenance": []
    },
    "kernelspec": {
      "name": "python3",
      "display_name": "Python 3"
    },
    "language_info": {
      "name": "python"
    }
  },
  "cells": [
    {
      "cell_type": "markdown",
      "source": [
        "# Submission Guide"
      ],
      "metadata": {
        "id": "LKzPrZX1ehNq"
      }
    },
    {
      "cell_type": "markdown",
      "source": [
        "\n",
        "\n",
        "*   After completion of implementation, you should run all the cells\n",
        "*   Submit your ipython notebook in 'ipynb' format\n",
        "    * **Do not remove your output results from every cells**\n",
        "*   File name format: lab1_studentID_name.\n",
        "ipynb\n",
        "    * Ex) lab1_20233809_MinsungHwang.ipynb\n",
        "*   Submission due: March 27th by 10:00AM\n",
        "\n",
        "    * **We do not accept late submissions**\n",
        "\n"
      ],
      "metadata": {
        "id": "jgYzQbfYPHVF"
      }
    },
    {
      "cell_type": "markdown",
      "source": [
        "# Load Dataset"
      ],
      "metadata": {
        "id": "nIzTTGuy-4zC"
      }
    },
    {
      "cell_type": "code",
      "source": [
        "from google.colab import files\n",
        "f = files.upload()"
      ],
      "metadata": {
        "id": "_iYa4UUFKWUy",
        "colab": {
          "base_uri": "https://localhost:8080/",
          "height": 112
        },
        "outputId": "3b89dab4-932d-4e7b-c87a-62e129f5e199"
      },
      "execution_count": 87,
      "outputs": [
        {
          "output_type": "display_data",
          "data": {
            "text/plain": [
              "<IPython.core.display.HTML object>"
            ],
            "text/html": [
              "\n",
              "     <input type=\"file\" id=\"files-04737f54-caab-4503-a7e3-c5f74ef4058f\" name=\"files[]\" multiple disabled\n",
              "        style=\"border:none\" />\n",
              "     <output id=\"result-04737f54-caab-4503-a7e3-c5f74ef4058f\">\n",
              "      Upload widget is only available when the cell has been executed in the\n",
              "      current browser session. Please rerun this cell to enable.\n",
              "      </output>\n",
              "      <script>// Copyright 2017 Google LLC\n",
              "//\n",
              "// Licensed under the Apache License, Version 2.0 (the \"License\");\n",
              "// you may not use this file except in compliance with the License.\n",
              "// You may obtain a copy of the License at\n",
              "//\n",
              "//      http://www.apache.org/licenses/LICENSE-2.0\n",
              "//\n",
              "// Unless required by applicable law or agreed to in writing, software\n",
              "// distributed under the License is distributed on an \"AS IS\" BASIS,\n",
              "// WITHOUT WARRANTIES OR CONDITIONS OF ANY KIND, either express or implied.\n",
              "// See the License for the specific language governing permissions and\n",
              "// limitations under the License.\n",
              "\n",
              "/**\n",
              " * @fileoverview Helpers for google.colab Python module.\n",
              " */\n",
              "(function(scope) {\n",
              "function span(text, styleAttributes = {}) {\n",
              "  const element = document.createElement('span');\n",
              "  element.textContent = text;\n",
              "  for (const key of Object.keys(styleAttributes)) {\n",
              "    element.style[key] = styleAttributes[key];\n",
              "  }\n",
              "  return element;\n",
              "}\n",
              "\n",
              "// Max number of bytes which will be uploaded at a time.\n",
              "const MAX_PAYLOAD_SIZE = 100 * 1024;\n",
              "\n",
              "function _uploadFiles(inputId, outputId) {\n",
              "  const steps = uploadFilesStep(inputId, outputId);\n",
              "  const outputElement = document.getElementById(outputId);\n",
              "  // Cache steps on the outputElement to make it available for the next call\n",
              "  // to uploadFilesContinue from Python.\n",
              "  outputElement.steps = steps;\n",
              "\n",
              "  return _uploadFilesContinue(outputId);\n",
              "}\n",
              "\n",
              "// This is roughly an async generator (not supported in the browser yet),\n",
              "// where there are multiple asynchronous steps and the Python side is going\n",
              "// to poll for completion of each step.\n",
              "// This uses a Promise to block the python side on completion of each step,\n",
              "// then passes the result of the previous step as the input to the next step.\n",
              "function _uploadFilesContinue(outputId) {\n",
              "  const outputElement = document.getElementById(outputId);\n",
              "  const steps = outputElement.steps;\n",
              "\n",
              "  const next = steps.next(outputElement.lastPromiseValue);\n",
              "  return Promise.resolve(next.value.promise).then((value) => {\n",
              "    // Cache the last promise value to make it available to the next\n",
              "    // step of the generator.\n",
              "    outputElement.lastPromiseValue = value;\n",
              "    return next.value.response;\n",
              "  });\n",
              "}\n",
              "\n",
              "/**\n",
              " * Generator function which is called between each async step of the upload\n",
              " * process.\n",
              " * @param {string} inputId Element ID of the input file picker element.\n",
              " * @param {string} outputId Element ID of the output display.\n",
              " * @return {!Iterable<!Object>} Iterable of next steps.\n",
              " */\n",
              "function* uploadFilesStep(inputId, outputId) {\n",
              "  const inputElement = document.getElementById(inputId);\n",
              "  inputElement.disabled = false;\n",
              "\n",
              "  const outputElement = document.getElementById(outputId);\n",
              "  outputElement.innerHTML = '';\n",
              "\n",
              "  const pickedPromise = new Promise((resolve) => {\n",
              "    inputElement.addEventListener('change', (e) => {\n",
              "      resolve(e.target.files);\n",
              "    });\n",
              "  });\n",
              "\n",
              "  const cancel = document.createElement('button');\n",
              "  inputElement.parentElement.appendChild(cancel);\n",
              "  cancel.textContent = 'Cancel upload';\n",
              "  const cancelPromise = new Promise((resolve) => {\n",
              "    cancel.onclick = () => {\n",
              "      resolve(null);\n",
              "    };\n",
              "  });\n",
              "\n",
              "  // Wait for the user to pick the files.\n",
              "  const files = yield {\n",
              "    promise: Promise.race([pickedPromise, cancelPromise]),\n",
              "    response: {\n",
              "      action: 'starting',\n",
              "    }\n",
              "  };\n",
              "\n",
              "  cancel.remove();\n",
              "\n",
              "  // Disable the input element since further picks are not allowed.\n",
              "  inputElement.disabled = true;\n",
              "\n",
              "  if (!files) {\n",
              "    return {\n",
              "      response: {\n",
              "        action: 'complete',\n",
              "      }\n",
              "    };\n",
              "  }\n",
              "\n",
              "  for (const file of files) {\n",
              "    const li = document.createElement('li');\n",
              "    li.append(span(file.name, {fontWeight: 'bold'}));\n",
              "    li.append(span(\n",
              "        `(${file.type || 'n/a'}) - ${file.size} bytes, ` +\n",
              "        `last modified: ${\n",
              "            file.lastModifiedDate ? file.lastModifiedDate.toLocaleDateString() :\n",
              "                                    'n/a'} - `));\n",
              "    const percent = span('0% done');\n",
              "    li.appendChild(percent);\n",
              "\n",
              "    outputElement.appendChild(li);\n",
              "\n",
              "    const fileDataPromise = new Promise((resolve) => {\n",
              "      const reader = new FileReader();\n",
              "      reader.onload = (e) => {\n",
              "        resolve(e.target.result);\n",
              "      };\n",
              "      reader.readAsArrayBuffer(file);\n",
              "    });\n",
              "    // Wait for the data to be ready.\n",
              "    let fileData = yield {\n",
              "      promise: fileDataPromise,\n",
              "      response: {\n",
              "        action: 'continue',\n",
              "      }\n",
              "    };\n",
              "\n",
              "    // Use a chunked sending to avoid message size limits. See b/62115660.\n",
              "    let position = 0;\n",
              "    do {\n",
              "      const length = Math.min(fileData.byteLength - position, MAX_PAYLOAD_SIZE);\n",
              "      const chunk = new Uint8Array(fileData, position, length);\n",
              "      position += length;\n",
              "\n",
              "      const base64 = btoa(String.fromCharCode.apply(null, chunk));\n",
              "      yield {\n",
              "        response: {\n",
              "          action: 'append',\n",
              "          file: file.name,\n",
              "          data: base64,\n",
              "        },\n",
              "      };\n",
              "\n",
              "      let percentDone = fileData.byteLength === 0 ?\n",
              "          100 :\n",
              "          Math.round((position / fileData.byteLength) * 100);\n",
              "      percent.textContent = `${percentDone}% done`;\n",
              "\n",
              "    } while (position < fileData.byteLength);\n",
              "  }\n",
              "\n",
              "  // All done.\n",
              "  yield {\n",
              "    response: {\n",
              "      action: 'complete',\n",
              "    }\n",
              "  };\n",
              "}\n",
              "\n",
              "scope.google = scope.google || {};\n",
              "scope.google.colab = scope.google.colab || {};\n",
              "scope.google.colab._files = {\n",
              "  _uploadFiles,\n",
              "  _uploadFilesContinue,\n",
              "};\n",
              "})(self);\n",
              "</script> "
            ]
          },
          "metadata": {}
        },
        {
          "output_type": "stream",
          "name": "stdout",
          "text": [
            "Saving edges.txt to edges (2).txt\n",
            "Saving nodes.txt to nodes (2).txt\n"
          ]
        }
      ]
    },
    {
      "cell_type": "code",
      "source": [
        "edges = f['edges.txt'].decode('utf-8').strip().split('\\n')\n",
        "edgeList = [(edge.split()[0], edge.split()[1]) for edge in edges]\n",
        "\n",
        "nodeList = f['nodes.txt'].decode('utf-8').strip().split('\\n')\n",
        "node2id = dict(zip(nodeList, range(len(nodeList))))"
      ],
      "metadata": {
        "id": "ROA2nxTRK1wH"
      },
      "execution_count": 88,
      "outputs": []
    },
    {
      "cell_type": "markdown",
      "source": [
        "# Computing Personalized PageRanks"
      ],
      "metadata": {
        "id": "rxfnt2pC9ywC"
      }
    },
    {
      "cell_type": "code",
      "source": [
        "class Node:\n",
        "    def __init__(self, id):\n",
        "        self.id = id\n",
        "        self.inNode = []\n",
        "        self.outNode = []\n",
        "        self.outDegree = 0\n",
        "\n",
        "        self.pagerank = 0\n",
        "        self.pagerankNext = 0\n",
        "        self.personalized = 0\n",
        "    \n",
        "    # TODO : Compute Personalized PageRank of a single node\n",
        "    def aggregate_pagerank(self, alpha):\n",
        "        # sum_of_inNode_pagerank =0\n",
        "        # for node in self.inNode:\n",
        "        #   sum_of_inNode_pagerank += node.pagerank\n",
        "        # outgoing = alpha *sum((node.pagerank/node.outDegree) for node in self.inNode)\n",
        "        \n",
        "        self.pagerankNext = alpha *sum((node.pagerank/node.outDegree) for node in self.inNode) + self.personalized\n",
        "        \n",
        "\n",
        "    def update_pagerank(self):\n",
        "      self.pagerank = self.pagerankNext"
      ],
      "metadata": {
        "id": "ilCs9GcOUIMf"
      },
      "execution_count": 89,
      "outputs": []
    },
    {
      "cell_type": "code",
      "source": [
        "class Graph:\n",
        "    def __init__(self, nodeList, edgeList):\n",
        "        self.nodeList = nodeList\n",
        "        self.edgeList = edgeList\n",
        "        self.numNodes = len(self.nodeList)\n",
        "        self._build_graph()\n",
        "    \n",
        "    def _build_graph(self):\n",
        "        self.nodes = {}\n",
        "        for id in self.nodeList:\n",
        "            node = Node(id)\n",
        "            self.nodes[id] = node\n",
        "        \n",
        "        for edge in self.edgeList:\n",
        "            headID = edge[0]\n",
        "            tailID = edge[1]\n",
        "\n",
        "            self.nodes[headID].outNode.append(self.nodes[tailID])\n",
        "            self.nodes[tailID].inNode.append(self.nodes[headID])\n",
        "\n",
        "            self.nodes[headID].outDegree += 1"
      ],
      "metadata": {
        "id": "RUV24Qx3EsHt"
      },
      "execution_count": 90,
      "outputs": []
    },
    {
      "cell_type": "code",
      "source": [
        "def compute_PageRank(nodeList, edgeList, maxIters, alpha, tolerance, personalize = None):\n",
        "    # TODO : Compute the Personalized PageRank with the predefined list #\n",
        "    graph = Graph(nodeList, edgeList)\n",
        "    if personalize is None:\n",
        "      personalize = graph.nodeList\n",
        "    norm = len(personalize)\n",
        "    for node in graph.nodes.values():\n",
        "      if node.id in personalize:\n",
        "        node.pagerank = (1-alpha) /norm\n",
        "        node.personalized = (1-alpha) /norm\n",
        "\n",
        "\n",
        "    \n",
        "    for iter in range(maxIters):\n",
        "        # TODO : Implement one iteration\n",
        "        # Calculate L_infty norm to check convergence\n",
        "        prevPageranks = [node.pagerank for node in graph.nodes.values()]\n",
        "\n",
        "        for node in graph.nodes.values():\n",
        "          node.aggregate_pagerank(alpha)\n",
        "        for node in graph.nodes.values():\n",
        "          node.update_pagerank()\n",
        "        \n",
        "        currPageranks = [node.pagerank for node in graph.nodes.values()]\n",
        "        #error term check\n",
        "        error = max(abs(prevPagerank - currPagerank) for prevPagerank, currPagerank in zip(prevPageranks, currPageranks))\n",
        "        # print(error)\n",
        "        if error < tolerance:\n",
        "          print(\"# of iterations: \", iter)\n",
        "          break\n",
        "        \n",
        "    else:\n",
        "      print(\"Max iteration reached: \", maxIters)\n",
        "\n",
        "    pageranks = [node.pagerank for node in graph.nodes.values()]\n",
        "    pageranks = dict(zip(graph.nodeList, pageranks))\n",
        "    \n",
        "    return pageranks"
      ],
      "metadata": {
        "id": "hlg-rdkKkUJx"
      },
      "execution_count": 91,
      "outputs": []
    },
    {
      "cell_type": "code",
      "source": [
        "from prettytable import PrettyTable\n",
        "\n",
        "def print_PageRank_top10(pageranks, name='PageRank'):\n",
        "    pagerankSorted = sorted(pageranks.items(), reverse=True, key=lambda x: x[1])[:10]\n",
        "\n",
        "    table = PrettyTable(field_names = ['Node ID', name])\n",
        "    for id, score in pagerankSorted[:10]:\n",
        "        table.add_row([id, round(score, 4)])\n",
        "    print(table)"
      ],
      "metadata": {
        "id": "parOgF-hTPsD"
      },
      "execution_count": 92,
      "outputs": []
    },
    {
      "cell_type": "code",
      "source": [
        "pageranks = compute_PageRank(nodeList, edgeList, 10000, 0.85, 1e-8)\n",
        "\n",
        "print_PageRank_top10(pageranks)"
      ],
      "metadata": {
        "id": "jjz-TB4qyDS6",
        "colab": {
          "base_uri": "https://localhost:8080/"
        },
        "outputId": "b6dac953-3eec-4684-f560-d839b150647d"
      },
      "execution_count": 93,
      "outputs": [
        {
          "output_type": "stream",
          "name": "stdout",
          "text": [
            "# of iterations:  84\n",
            "+----------------------------+----------+\n",
            "|          Node ID           | PageRank |\n",
            "+----------------------------+----------+\n",
            "| stateorprovince:california |  0.032   |\n",
            "|        city:florida        |  0.0154  |\n",
            "|        plant:trees         |  0.0146  |\n",
            "| personmexico:ryan_whitney  |  0.0131  |\n",
            "|   stateorprovince:texas    |  0.0116  |\n",
            "|        country:usa         |  0.0098  |\n",
            "| sportsteam:ncaa_youth_kids |  0.0077  |\n",
            "|      vegetable:pepper      |  0.0074  |\n",
            "|  profession:professionals  |  0.0073  |\n",
            "|     country:countries      |  0.0072  |\n",
            "+----------------------------+----------+\n"
          ]
        }
      ]
    },
    {
      "cell_type": "code",
      "source": [
        "# Set the predefined set in the form of a list\n",
        "personalizeList = ['politicianus:joe_biden', 'politicianus:biden', 'politicianus:senator_biden']\n",
        "\n",
        "personalizedPageranks = compute_PageRank(nodeList, edgeList, 10000, 0.85, 1e-8, personalize = personalizeList)\n",
        "\n",
        "print_PageRank_top10(personalizedPageranks, name='PPR')"
      ],
      "metadata": {
        "id": "TIgd5VlOPpWQ",
        "colab": {
          "base_uri": "https://localhost:8080/"
        },
        "outputId": "7ef6dd8e-b078-430c-dc50-63f1246242a9"
      },
      "execution_count": 94,
      "outputs": [
        {
          "output_type": "stream",
          "name": "stdout",
          "text": [
            "# of iterations:  85\n",
            "+----------------------------+--------+\n",
            "|          Node ID           |  PPR   |\n",
            "+----------------------------+--------+\n",
            "|     politicianus:biden     | 0.0569 |\n",
            "|     politician:clinton     | 0.0529 |\n",
            "|   politicianus:joe_biden   | 0.0519 |\n",
            "| politicianus:senator_biden | 0.0506 |\n",
            "|     politicianus:palin     | 0.0301 |\n",
            "| stateorprovince:california | 0.0274 |\n",
            "|   politicaloffice:office   | 0.0172 |\n",
            "|      politician:obama      | 0.0161 |\n",
            "|    politicianus:mccain     | 0.016  |\n",
            "| politicianus:barack_obama  | 0.0141 |\n",
            "+----------------------------+--------+\n"
          ]
        }
      ]
    },
    {
      "cell_type": "markdown",
      "source": [
        "# Computing PageRank with Sparse Matrix"
      ],
      "metadata": {
        "id": "mxrISgL7UP1h"
      }
    },
    {
      "cell_type": "code",
      "source": [
        "import numpy as np\n",
        "from scipy.sparse import coo_matrix\n",
        "\n",
        "def compute_PageRank_with_sparse_matrix(nodeList, edgeList, node2id, maxIters, alpha, tolerance, personalize = None):\n",
        "    # TODO : Compute the Personalized PageRank with the predefined list using sparse matrix-vector multiplication\n",
        "    numNodes = len(nodeList)\n",
        "\n",
        "    newEdgeList = [(node2id[edge[0]], node2id[edge[1]]) for edge in edgeList]\n",
        "    rows, cols, data = zip(*[(edge[0], edge[1], 1) for edge in newEdgeList])\n",
        "    adjSparse = coo_matrix((data, (rows,cols)), shape = (numNodes, numNodes), dtype = float)\n",
        "\n",
        "    D = np.array(adjSparse.sum(axis=1), dtype = float)\n",
        "    D[D!=0] = 1.0/D[D!=0]\n",
        "    P = adjSparse.multiply(D)\n",
        "    PT = P.transpose()\n",
        "\n",
        "    if personalize is None:\n",
        "      personalizeVector = np.ones((numNodes, 1), dtype = float)\n",
        "    else:\n",
        "      personalizeVector = np.array([1 if node in personalize else 0 for node in nodeList], dtype = float).reshape((numNodes, 1))\n",
        "\n",
        "    personalizeVector /= np.sum(personalizeVector)\n",
        "    personalizeVector *= (1-alpha)\n",
        "    pageranks = np.copy(personalizeVector)\n",
        "\n",
        "\n",
        "    for iter in range(maxIters):\n",
        "        # TODO : Implement power iteration\n",
        "        # Calculate L_infty norm to check convergence\n",
        "        prevPageranks = pageranks\n",
        "        pageranks = alpha * PT @ pageranks + personalizeVector\n",
        "        error = max(np.absolute(prevPageranks - pageranks))\n",
        "\n",
        "        if error< tolerance:\n",
        "          print(\"# of iterations: \", iter)\n",
        "          break\n",
        "    else:\n",
        "        print(\"Max iteration reached: \", maxIters)\n",
        "    pageranks = np.asarray(pageranks)\n",
        "    pageranks = dict(zip(nodeList, pageranks.squeeze().tolist()))\n",
        "    return pageranks"
      ],
      "metadata": {
        "id": "AYOn8Ffu1DeQ"
      },
      "execution_count": 95,
      "outputs": []
    },
    {
      "cell_type": "code",
      "source": [
        "pageranks = compute_PageRank_with_sparse_matrix(nodeList, edgeList, node2id, 10000, 0.85, 1e-8)\n",
        "print_PageRank_top10(pageranks)"
      ],
      "metadata": {
        "id": "x5CVQ4c01CAY",
        "colab": {
          "base_uri": "https://localhost:8080/"
        },
        "outputId": "c131d991-1a12-49e6-830a-005b60ac08a9"
      },
      "execution_count": 96,
      "outputs": [
        {
          "output_type": "stream",
          "name": "stdout",
          "text": [
            "# of iterations:  84\n",
            "+----------------------------+----------+\n",
            "|          Node ID           | PageRank |\n",
            "+----------------------------+----------+\n",
            "| stateorprovince:california |  0.032   |\n",
            "|        city:florida        |  0.0154  |\n",
            "|        plant:trees         |  0.0146  |\n",
            "| personmexico:ryan_whitney  |  0.0131  |\n",
            "|   stateorprovince:texas    |  0.0116  |\n",
            "|        country:usa         |  0.0098  |\n",
            "| sportsteam:ncaa_youth_kids |  0.0077  |\n",
            "|      vegetable:pepper      |  0.0074  |\n",
            "|  profession:professionals  |  0.0073  |\n",
            "|     country:countries      |  0.0072  |\n",
            "+----------------------------+----------+\n"
          ]
        }
      ]
    },
    {
      "cell_type": "code",
      "source": [
        "personalizedPageranks = compute_PageRank_with_sparse_matrix(nodeList, edgeList, node2id, 10000, 0.85, 1e-8, personalize = personalizeList)\n",
        "print_PageRank_top10(personalizedPageranks, name = 'PPR')"
      ],
      "metadata": {
        "id": "vXaZF02HRWnI",
        "colab": {
          "base_uri": "https://localhost:8080/"
        },
        "outputId": "7147e6bc-ef69-4621-8e2a-7422cafdc537"
      },
      "execution_count": 97,
      "outputs": [
        {
          "output_type": "stream",
          "name": "stdout",
          "text": [
            "# of iterations:  85\n",
            "+----------------------------+--------+\n",
            "|          Node ID           |  PPR   |\n",
            "+----------------------------+--------+\n",
            "|     politicianus:biden     | 0.0569 |\n",
            "|     politician:clinton     | 0.0529 |\n",
            "|   politicianus:joe_biden   | 0.0519 |\n",
            "| politicianus:senator_biden | 0.0506 |\n",
            "|     politicianus:palin     | 0.0301 |\n",
            "| stateorprovince:california | 0.0274 |\n",
            "|   politicaloffice:office   | 0.0172 |\n",
            "|      politician:obama      | 0.0161 |\n",
            "|    politicianus:mccain     | 0.016  |\n",
            "| politicianus:barack_obama  | 0.0141 |\n",
            "+----------------------------+--------+\n"
          ]
        }
      ]
    }
  ]
}